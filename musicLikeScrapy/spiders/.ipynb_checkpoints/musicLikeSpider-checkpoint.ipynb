{
 "cells": [
  {
   "cell_type": "code",
   "execution_count": 9,
   "metadata": {
    "scrolled": false
   },
   "outputs": [],
   "source": [
    "from scrapy.spiders import BaseSpider \n",
    "from scrapy.selector import Selector\n",
    "from scrapy.http.request import Request\n",
    "import sys \n",
    "sys.path.append(r'F:\\python2.7\\workspace\\musicLikeScrapy\\musicLikeScrapy')\n",
    "from items import MusiclikescrapyItem"
   ]
  },
  {
   "cell_type": "code",
   "execution_count": 18,
   "metadata": {},
   "outputs": [
    {
     "name": "stdout",
     "output_type": "stream",
     "text": [
      "Help on method extract in module parsel.selector:\n",
      "\n",
      "extract(self) unbound scrapy.selector.unified.Selector method\n",
      "    Serialize and return the matched nodes in a single unicode string.\n",
      "    Percent encoded content is unquoted.\n",
      "\n"
     ]
    }
   ],
   "source": [
    "class MusicLikeSpider(BaseSpider):\n",
    "    name = \"MusicLike\"\n",
    "    allowed_domains = [\"163.com\"]\n",
    "    #设置爬取速度\n",
    "    #download_delay = 1\n",
    "    start_urls = [\n",
    "        # 第一个网页地址\n",
    "        \"http://music.163.com/#/playlist?id=142570652\"]\n",
    "    def parse(self,response):\n",
    "        info=MusiclikescrapyItem()\n",
    "        sel=Selector(response)\n",
    "#         _users=sel.xpath(\"//h2[@class='f-ff2 f-brk']/text()\").extract()\n",
    "#         print \"-------------->\"+_users[0].encode(\"utf-8\")\n",
    "        _songs=sel.xpath('//a[contains(@href,\"/song?id=\")]/b/@title').extract()\n",
    "        _artists=sel.xpath('//div[@class=\"text\"]/span/@title').extract()\n",
    "        print '----------->'+str(len(_songs))\n",
    "#         for i in range(len(_songs)):\n",
    "#             info[\"user\"]=_artists[i].encode(\"utf-8\")\n",
    "#             info['artist_name']=_artists[i].encode(\"utf-8\")\n",
    "#             info['song_name']=_songs[i].encode(\"utf-8\")\n",
    "#             yield info"
   ]
  },
  {
   "cell_type": "code",
   "execution_count": null,
   "metadata": {},
   "outputs": [],
   "source": []
  }
 ],
 "metadata": {
  "kernelspec": {
   "display_name": "Python 2",
   "language": "python",
   "name": "python2"
  },
  "language_info": {
   "codemirror_mode": {
    "name": "ipython",
    "version": 2
   },
   "file_extension": ".py",
   "mimetype": "text/x-python",
   "name": "python",
   "nbconvert_exporter": "python",
   "pygments_lexer": "ipython2",
   "version": "2.7.13"
  }
 },
 "nbformat": 4,
 "nbformat_minor": 2
}
